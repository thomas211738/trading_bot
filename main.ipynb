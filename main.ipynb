{
 "cells": [
  {
   "cell_type": "code",
   "execution_count": 11,
   "metadata": {},
   "outputs": [],
   "source": [
    "import pandas as pd\n",
    "import alpaca_trade_api as tradeapi"
   ]
  },
  {
   "cell_type": "code",
   "execution_count": 9,
   "metadata": {},
   "outputs": [],
   "source": [
    "API_KEYS = pd.read_csv('/Users/toto211738/Downloads/Apache_Keys.csv')\n",
    "API_KEY = API_KEYS['KEY'][0]\n",
    "API_SECRET = API_KEYS['SECRET'][0]\n",
    "BASE_URL = 'https://paper-api.alpaca.markets' # Use 'https://api.alpaca.markets' for live trading"
   ]
  },
  {
   "cell_type": "code",
   "execution_count": 12,
   "metadata": {},
   "outputs": [],
   "source": [
    "api = tradeapi.REST(API_KEY, API_SECRET, base_url=BASE_URL, api_version='v2')\n",
    "symbol = 'AAPL'\n",
    "quantity = 1"
   ]
  },
  {
   "cell_type": "code",
   "execution_count": 13,
   "metadata": {},
   "outputs": [
    {
     "name": "stdout",
     "output_type": "stream",
     "text": [
      "The market is closed.\n"
     ]
    }
   ],
   "source": [
    "clock = api.get_clock()\n",
    "if clock.is_open:\n",
    "    # Place a market order to buy the specified quantity of Apple stock\n",
    "    api.submit_order(\n",
    "        symbol=symbol,\n",
    "        qty=quantity,\n",
    "        side='buy',\n",
    "        type='market',\n",
    "        time_in_force='gtc'\n",
    "    )\n",
    "    print(f\"Market order to buy {quantity} shares of {symbol} placed successfully.\")\n",
    "else:\n",
    "    print(\"The market is closed.\")"
   ]
  }
 ],
 "metadata": {
  "kernelspec": {
   "display_name": "Python 3 (ipykernel)",
   "language": "python",
   "name": "python3"
  },
  "language_info": {
   "codemirror_mode": {
    "name": "ipython",
    "version": 3
   },
   "file_extension": ".py",
   "mimetype": "text/x-python",
   "name": "python",
   "nbconvert_exporter": "python",
   "pygments_lexer": "ipython3",
   "version": "3.11.1"
  }
 },
 "nbformat": 4,
 "nbformat_minor": 2
}
